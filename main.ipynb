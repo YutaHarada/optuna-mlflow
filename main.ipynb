{
 "cells": [
  {
   "cell_type": "code",
   "execution_count": null,
   "metadata": {},
   "outputs": [],
   "source": [
    "# import文\n",
    "import numpy as np\n",
    "import tensorflow as tf\n",
    "\n",
    "import matplotlib.pyplot as plt\n",
    "\n",
    "import optuna\n",
    "import mlflow\n",
    "\n",
    "import modules as mod"
   ]
  },
  {
   "cell_type": "code",
   "execution_count": null,
   "metadata": {},
   "outputs": [],
   "source": [
    "# SQLiteのDBファイル作成先の指定\n",
    "DB_PATH= '[バックエンド用DBファイルを作成するパス] 例: \"/Users/user-name/Desktop/Backend/Tracking/mlruns.db\" '\n",
    "# アーティファクト保存先の指定\n",
    "ARTIFACT_LOCATION = '[Artifactストレージに指定したいパス] 例: \"/Users/user-name/Desktop/Backend/Artifact\" '\n",
    "# Experiment名の指定\n",
    "EXPERIMENT_NAME = '[作成/指定したいエクスペリメント名] 例: \"optuna-mlflow '"
   ]
  },
  {
   "cell_type": "code",
   "execution_count": null,
   "metadata": {},
   "outputs": [],
   "source": [
    "# バックエンドの準備\n",
    "tracking_uri = mod.backend(db_path=DB_PATH)"
   ]
  },
  {
   "cell_type": "code",
   "execution_count": null,
   "metadata": {},
   "outputs": [],
   "source": [
    "# Experimentの生成\n",
    "experiment_id = mod.create_experiment(experiment_name=EXPERIMENT_NAME, artifact_loc=ARTIFACT_LOCATION)"
   ]
  },
  {
   "cell_type": "code",
   "execution_count": null,
   "metadata": {},
   "outputs": [],
   "source": [
    "# データの準備\n",
    "fashion_mnist = tf.keras.datasets.fashion_mnist\n",
    "(x_train, y_train), (x_test, y_test) = fashion_mnist.load_data()\n",
    "\n",
    "# データの正規化\n",
    "x_train, x_test = x_train / 255.0, x_test / 255.0\n",
    "\n",
    "# ラベル情報の辞書を作成\n",
    "label_description = {\n",
    "    0:\"T-shirt/top\",\n",
    "    1:\"Trouser\",\n",
    "    2:\"Pullover\",\n",
    "    3:\"Dress\",\n",
    "    4:\"Coat\",\n",
    "    5:\"Sandal\",\n",
    "    6:\"Shirt\",\n",
    "    7:\"Sneaker\",\n",
    "    8:\"Bag\",\n",
    "    9:\"Ankle boot\"\n",
    "}"
   ]
  },
  {
   "cell_type": "code",
   "execution_count": null,
   "metadata": {},
   "outputs": [],
   "source": [
    "# データの中身を確認\n",
    "\n",
    "# subplotsで描画を設定：引数で描画領域の行数/列数, x/y軸の統一を指定\n",
    "fix, ax = plt.subplots(nrows=2, ncols=5, sharex=True, sharey=True)\n",
    "ax = ax.flatten()\n",
    "for i in range(10):\n",
    "    # 各ファッションデータのうち最初に出てきたデータをピックアップする\n",
    "    img = x_train[y_train == i][0]\n",
    "    ax[i].imshow(img, cmap='Greys')\n",
    "    ax[i].set_title(label_description[i]) \n",
    "\n",
    "ax[0].set_xticks([])\n",
    "ax[0].set_yticks([])\n",
    "plt.tight_layout()\n",
    "plt.show()"
   ]
  },
  {
   "cell_type": "code",
   "execution_count": null,
   "metadata": {},
   "outputs": [],
   "source": [
    "# 多層ニューラルネットワークモデル作成用の関数\n",
    "def create_model(trial):\n",
    "    \n",
    "    # ドロップアウト率の探索範囲を設定\n",
    "    dropout_rate = trial.suggest_float('dropout_rate', 0.0, 0.5, log=False)\n",
    "    \n",
    "    # AdamWの学習率の探索範囲を設定\n",
    "    optimeizer = tf.keras.optimizers.AdamW(\n",
    "        learning_rate = trial.suggest_float('learning_rate', 1e-5, 1e-1, log=True),\n",
    "    )\n",
    "\n",
    "    # 多層FNNの構築\n",
    "    model = tf.keras.models.Sequential([\n",
    "        tf.keras.layers.Flatten(input_shape=(28, 28))\n",
    "    ])\n",
    "    for i in range(1,5):\n",
    "        model.add(tf.keras.layers.Dense(units=512, name=f'hidden_{i}', activation='relu'))\n",
    "        model.add(tf.keras.layers.Dropout(rate=dropout_rate))\n",
    "    model.add(tf.keras.layers.Dense(units=10, name='output', activation='softmax'))\n",
    "\n",
    "    # 最適化手法、損失関数、評価指標の設定\n",
    "    model.compile(optimizer=optimeizer,\n",
    "                  loss = 'sparse_categorical_crossentropy',\n",
    "                  metrics = [\"accuracy\"])\n",
    "    \n",
    "    return model"
   ]
  },
  {
   "cell_type": "code",
   "execution_count": null,
   "metadata": {},
   "outputs": [],
   "source": [
    "# optunaに渡すためのmlflow-callbackの準備\n",
    "mlflc = mod.mlflow_callback(tracking_uri=tracking_uri, experiment_id=experiment_id)"
   ]
  },
  {
   "cell_type": "code",
   "execution_count": null,
   "metadata": {},
   "outputs": [],
   "source": [
    "# ハイパーパラメータの指定（最適化対象外）\n",
    "tf.random.set_seed(1)\n",
    "EPOCHS = 50\n",
    "BATCH_SIZE = 32\n",
    "\n",
    "validation_split = 0.2\n",
    "step_per_epoch = np.ceil(x_train.shape[0] * (1-validation_split) / BATCH_SIZE)    \n",
    "validation_steps = np.ceil(x_train.shape[0] * validation_split / BATCH_SIZE)   "
   ]
  },
  {
   "cell_type": "code",
   "execution_count": null,
   "metadata": {},
   "outputs": [],
   "source": [
    "# optunaにより最小化したい目的関数を準備\n",
    "@mlflc.track_in_mlflow()\n",
    "def objective(trial):\n",
    "     \n",
    "    # モデルの生成\n",
    "    model = create_model(trial)\n",
    "    \n",
    "    # 過学習対策に EarlyStopping コールバックを設定。val_lossの値が３エポックに渡って改善されなかった場合に学習を中止する\n",
    "    # 効率化のため TFKerasPruning コールバックを設定。精度が出る見込みが薄いハイパーパラメータの組み合わせについては早々に切り捨てる\n",
    "    callbacks = [\n",
    "        tf.keras.callbacks.EarlyStopping(monitor='val_loss', patience=3),\n",
    "        optuna.integration.TFKerasPruningCallback(trial, monitor='val_accuracy'),\n",
    "    ]\n",
    "    \n",
    "    # モデルの訓練\n",
    "    history = model.fit(x_train, y_train,\n",
    "                        validation_split=validation_split,\n",
    "                        batch_size=BATCH_SIZE, \n",
    "                        epochs=EPOCHS, \n",
    "                        steps_per_epoch=step_per_epoch, \n",
    "                        validation_steps=validation_steps,\n",
    "                        callbacks=callbacks,\n",
    "                        verbose=0)\n",
    "    \n",
    "    # 現在のトライアルのハイパーパラメータ（trial.params）をrunに記録\n",
    "    mlflow.log_params(trial.params)\n",
    "    # 現在のトライアルの評価結果をrunに記録\n",
    "    mlflow.log_metrics({'val_accuracy' : history.history['val_accuracy'][-1]})\n",
    "\n",
    "    # 最後の val_accuracy を出力\n",
    "    return history.history['val_accuracy'][-1]"
   ]
  },
  {
   "cell_type": "code",
   "execution_count": null,
   "metadata": {},
   "outputs": [],
   "source": [
    "# 最適化を実行\n",
    "if __name__ == \"__main__\":\n",
    "    # studyの作成。'枝刈り'の方法としてはMedianPrunerを設定\n",
    "    study = optuna.create_study(\n",
    "        direction='maximize', pruner=optuna.pruners.MedianPruner(n_startup_trials=2)\n",
    "        )\n",
    "    \n",
    "    # 最適化の実施\n",
    "    study.optimize(objective, n_trials=100, callbacks=[mlflc])\n",
    "\n",
    "    # 途中で枝刈りされたトライアルの数と、最後まで完了したトライアルの数を取得\n",
    "    pruned_trials = study.get_trials(deepcopy=False, states=[optuna.trial.TrialState.PRUNED])\n",
    "    complete_trials = study.get_trials(deepcopy=False, states=[optuna.trial.TrialState.COMPLETE])\n",
    "    \n",
    "    # トライアル回数の確認\n",
    "    print(\"Study statistics: \")\n",
    "    print(f\" Number of finished trials : {len(study.trials)} \")\n",
    "    print(f\" Number of pruned trials : {len(pruned_trials)} \")\n",
    "    print(f\" Number of complete trials : {len(complete_trials)} \")\n",
    "\n",
    "    # 最良のトライアルの確認\n",
    "    print(\" Best trial : \")\n",
    "    best_trial = study.best_trial\n",
    "\n",
    "    print(f\" Value : {best_trial.value} \")\n",
    "\n",
    "    print(\" Params : \")\n",
    "    for key, value in best_trial.params.items():\n",
    "        print(f\" {key} : {value} \")"
   ]
  },
  {
   "cell_type": "code",
   "execution_count": null,
   "metadata": {},
   "outputs": [],
   "source": [
    "# 最も正解率の高かったハイパーパラメータの組み合わせを用いてモデルを生成し訓練を実施する\n",
    "best_model = create_model(best_trial)\n",
    "\n",
    "# 過学習対策で EarlyStopping を設定\n",
    "callbacks = [\n",
    "    tf.keras.callbacks.EarlyStopping(monitor='val_loss', patience=3),\n",
    "]\n",
    "\n",
    "# モデルの訓練\n",
    "history = best_model.fit(x_train, y_train,\n",
    "                         validation_split=validation_split,\n",
    "                         batch_size=BATCH_SIZE, \n",
    "                         epochs=EPOCHS, \n",
    "                         steps_per_epoch=step_per_epoch, \n",
    "                         validation_steps=validation_steps,\n",
    "                         callbacks=callbacks,\n",
    "                         verbose=1)\n",
    "\n",
    "# モデルをMLflowで管理\n",
    "with mlflow.start_run(experiment_id=experiment_id):\n",
    "    mlflow.tensorflow.log_model(best_model, artifact_path=\"optuna-fashion_mnist\")"
   ]
  },
  {
   "cell_type": "code",
   "execution_count": null,
   "metadata": {},
   "outputs": [],
   "source": [
    "# テストデータを用いてモデルの汎化性能を評価する\n",
    "test_eval = best_model.evaluate(x_test, y_test)\n",
    "print('Test Acc :', test_eval[1])"
   ]
  },
  {
   "cell_type": "code",
   "execution_count": null,
   "metadata": {},
   "outputs": [],
   "source": []
  },
  {
   "cell_type": "code",
   "execution_count": null,
   "metadata": {},
   "outputs": [],
   "source": []
  },
  {
   "cell_type": "code",
   "execution_count": null,
   "metadata": {},
   "outputs": [],
   "source": []
  },
  {
   "cell_type": "code",
   "execution_count": null,
   "metadata": {},
   "outputs": [],
   "source": []
  },
  {
   "cell_type": "code",
   "execution_count": null,
   "metadata": {},
   "outputs": [],
   "source": []
  },
  {
   "cell_type": "code",
   "execution_count": null,
   "metadata": {},
   "outputs": [],
   "source": []
  },
  {
   "cell_type": "code",
   "execution_count": null,
   "metadata": {},
   "outputs": [],
   "source": []
  },
  {
   "cell_type": "code",
   "execution_count": null,
   "metadata": {},
   "outputs": [],
   "source": []
  },
  {
   "cell_type": "code",
   "execution_count": null,
   "metadata": {},
   "outputs": [],
   "source": []
  },
  {
   "cell_type": "code",
   "execution_count": null,
   "metadata": {},
   "outputs": [],
   "source": []
  },
  {
   "cell_type": "code",
   "execution_count": null,
   "metadata": {},
   "outputs": [],
   "source": []
  },
  {
   "cell_type": "code",
   "execution_count": null,
   "metadata": {},
   "outputs": [],
   "source": []
  }
 ],
 "metadata": {
  "kernelspec": {
   "display_name": "base",
   "language": "python",
   "name": "python3"
  },
  "language_info": {
   "codemirror_mode": {
    "name": "ipython",
    "version": 3
   },
   "file_extension": ".py",
   "mimetype": "text/x-python",
   "name": "python",
   "nbconvert_exporter": "python",
   "pygments_lexer": "ipython3",
   "version": "3.11.4"
  },
  "orig_nbformat": 4
 },
 "nbformat": 4,
 "nbformat_minor": 2
}
